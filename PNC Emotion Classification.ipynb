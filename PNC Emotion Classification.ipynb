{
 "cells": [
  {
   "cell_type": "code",
   "execution_count": 1,
   "metadata": {},
   "outputs": [
    {
     "name": "stdout",
     "output_type": "stream",
     "text": [
      "sub shape: (759, 10)\n",
      "The first 3 columns are: Index(['Subj', 'Age', 'Sex'], dtype='object')\n"
     ]
    }
   ],
   "source": [
    "import os\n",
    "import pandas as pd\n",
    "import numpy as np\n",
    "\n",
    "path = '/Users/zhangyuan/Google Drive/Files_PNC_Analysis'\n",
    "\n",
    "# load subject info\n",
    "filename = 'SubInfo_2018.txt'\n",
    "sub = pd.read_csv(os.path.join(path, filename), header=0, delimiter='\\t')\n",
    "print(\"sub shape: \" + str(sub.shape))\n",
    "print(\"The first 3 columns are: \" + str(sub.columns[0:3]))\n",
    "sub.head(3)\n",
    "\n",
    "num_sub = sub.shape[0]"
   ]
  },
  {
   "cell_type": "code",
   "execution_count": 2,
   "metadata": {},
   "outputs": [],
   "source": [
    "# emotion condition (classes)\n",
    "emotion = ['fear','anger','sad','happy'] # this is a list\n",
    "#print(emotion)\n",
    "\n",
    "# load connectivity into dictionary conn\n",
    "path = '/Users/zhangyuan/Google Drive/Files_PNC_Analysis'\n",
    "path = path +'/BS_Conn_50ROIs_2018/Original Data'\n",
    "#print(path)\n",
    "\n",
    "df = {} # save connectivity under Fear, Anger, Sad, and Happy\n",
    "\n",
    "for i in range(len(emotion)):\n",
    "    filename = 'bs_conns_' + emotion[i] + '.txt'  \n",
    "    #print(filename)\n",
    "    conn = pd.read_csv(os.path.join(path, filename), header=0, delimiter='\\t')\n",
    "    # check the shape\n",
    "    #print(conn.shape)\n",
    "    # get name of the last unused column\n",
    "    col = conn.columns[-1]\n",
    "    #print(\"last column: \" + str(col))\n",
    "    # drop the last unused column\n",
    "    conn = conn.drop(str(col),1)\n",
    "    # check the shape\n",
    "    #print(conn.shape)\n",
    "    df[str(emotion[i])] = pd.concat([sub, conn], axis=1) #concat\n",
    "    "
   ]
  },
  {
   "cell_type": "code",
   "execution_count": 3,
   "metadata": {},
   "outputs": [
    {
     "name": "stdout",
     "output_type": "stream",
     "text": [
      "dict_keys(['fear', 'anger', 'sad', 'happy'])\n",
      "(759, 1236)\n"
     ]
    },
    {
     "data": {
      "text/html": [
       "<div>\n",
       "<style scoped>\n",
       "    .dataframe tbody tr th:only-of-type {\n",
       "        vertical-align: middle;\n",
       "    }\n",
       "\n",
       "    .dataframe tbody tr th {\n",
       "        vertical-align: top;\n",
       "    }\n",
       "\n",
       "    .dataframe thead th {\n",
       "        text-align: right;\n",
       "    }\n",
       "</style>\n",
       "<table border=\"1\" class=\"dataframe\">\n",
       "  <thead>\n",
       "    <tr style=\"text-align: right;\">\n",
       "      <th></th>\n",
       "      <th>Subj</th>\n",
       "      <th>Age</th>\n",
       "      <th>Sex</th>\n",
       "      <th>Race</th>\n",
       "      <th>GScore</th>\n",
       "      <th>GGroup</th>\n",
       "      <th>DScore</th>\n",
       "      <th>DGroup</th>\n",
       "      <th>Motion</th>\n",
       "      <th>Agebin</th>\n",
       "      <th>...</th>\n",
       "      <th>VLPFC.R_DLPFC.L</th>\n",
       "      <th>VLPFC.R_DLPFC.R</th>\n",
       "      <th>VLPFC.R_DLPFCm.L</th>\n",
       "      <th>VLPFC.R_DLPFCm.R</th>\n",
       "      <th>DLPFC.L_DLPFC.R</th>\n",
       "      <th>DLPFC.L_DLPFCm.L</th>\n",
       "      <th>DLPFC.L_DLPFCm.R</th>\n",
       "      <th>DLPFC.R_DLPFCm.L</th>\n",
       "      <th>DLPFC.R_DLPFCm.R</th>\n",
       "      <th>DLPFCm.L_DLPFCm.R</th>\n",
       "    </tr>\n",
       "  </thead>\n",
       "  <tbody>\n",
       "    <tr>\n",
       "      <th>0</th>\n",
       "      <td>600009963128</td>\n",
       "      <td>9.666667</td>\n",
       "      <td>0</td>\n",
       "      <td>0</td>\n",
       "      <td>0</td>\n",
       "      <td>0</td>\n",
       "      <td>0</td>\n",
       "      <td>0</td>\n",
       "      <td>0.149664</td>\n",
       "      <td>Children</td>\n",
       "      <td>...</td>\n",
       "      <td>0.4722</td>\n",
       "      <td>0.9470</td>\n",
       "      <td>0.7317</td>\n",
       "      <td>1.2809</td>\n",
       "      <td>0.8010</td>\n",
       "      <td>0.0175</td>\n",
       "      <td>0.1136</td>\n",
       "      <td>0.2156</td>\n",
       "      <td>0.5137</td>\n",
       "      <td>1.2603</td>\n",
       "    </tr>\n",
       "    <tr>\n",
       "      <th>1</th>\n",
       "      <td>600018902293</td>\n",
       "      <td>15.583333</td>\n",
       "      <td>0</td>\n",
       "      <td>0</td>\n",
       "      <td>12</td>\n",
       "      <td>1</td>\n",
       "      <td>4</td>\n",
       "      <td>1</td>\n",
       "      <td>0.059930</td>\n",
       "      <td>Adolescents</td>\n",
       "      <td>...</td>\n",
       "      <td>0.3621</td>\n",
       "      <td>0.3730</td>\n",
       "      <td>0.5669</td>\n",
       "      <td>0.5315</td>\n",
       "      <td>1.1184</td>\n",
       "      <td>1.1773</td>\n",
       "      <td>1.0380</td>\n",
       "      <td>1.1589</td>\n",
       "      <td>0.6858</td>\n",
       "      <td>1.2571</td>\n",
       "    </tr>\n",
       "    <tr>\n",
       "      <th>2</th>\n",
       "      <td>600020364885</td>\n",
       "      <td>17.750000</td>\n",
       "      <td>1</td>\n",
       "      <td>0</td>\n",
       "      <td>2</td>\n",
       "      <td>1</td>\n",
       "      <td>0</td>\n",
       "      <td>0</td>\n",
       "      <td>0.056563</td>\n",
       "      <td>Adolescents</td>\n",
       "      <td>...</td>\n",
       "      <td>0.7979</td>\n",
       "      <td>0.4853</td>\n",
       "      <td>0.3248</td>\n",
       "      <td>0.6449</td>\n",
       "      <td>1.0761</td>\n",
       "      <td>0.0941</td>\n",
       "      <td>0.2069</td>\n",
       "      <td>-0.0811</td>\n",
       "      <td>0.1089</td>\n",
       "      <td>0.9859</td>\n",
       "    </tr>\n",
       "  </tbody>\n",
       "</table>\n",
       "<p>3 rows × 1236 columns</p>\n",
       "</div>"
      ],
      "text/plain": [
       "           Subj        Age  Sex  Race  GScore  GGroup  DScore  DGroup  \\\n",
       "0  600009963128   9.666667    0     0       0       0       0       0   \n",
       "1  600018902293  15.583333    0     0      12       1       4       1   \n",
       "2  600020364885  17.750000    1     0       2       1       0       0   \n",
       "\n",
       "     Motion       Agebin        ...          VLPFC.R_DLPFC.L  VLPFC.R_DLPFC.R  \\\n",
       "0  0.149664     Children        ...                   0.4722           0.9470   \n",
       "1  0.059930  Adolescents        ...                   0.3621           0.3730   \n",
       "2  0.056563  Adolescents        ...                   0.7979           0.4853   \n",
       "\n",
       "   VLPFC.R_DLPFCm.L  VLPFC.R_DLPFCm.R  DLPFC.L_DLPFC.R  DLPFC.L_DLPFCm.L  \\\n",
       "0            0.7317            1.2809           0.8010            0.0175   \n",
       "1            0.5669            0.5315           1.1184            1.1773   \n",
       "2            0.3248            0.6449           1.0761            0.0941   \n",
       "\n",
       "   DLPFC.L_DLPFCm.R  DLPFC.R_DLPFCm.L  DLPFC.R_DLPFCm.R  DLPFCm.L_DLPFCm.R  \n",
       "0            0.1136            0.2156            0.5137             1.2603  \n",
       "1            1.0380            1.1589            0.6858             1.2571  \n",
       "2            0.2069           -0.0811            0.1089             0.9859  \n",
       "\n",
       "[3 rows x 1236 columns]"
      ]
     },
     "execution_count": 3,
     "metadata": {},
     "output_type": "execute_result"
    }
   ],
   "source": [
    "# Data check\n",
    "print(df.keys())\n",
    "print(df[str(emotion[0])].shape)\n",
    "df[str(emotion[0])].head(3)"
   ]
  },
  {
   "cell_type": "code",
   "execution_count": 4,
   "metadata": {},
   "outputs": [
    {
     "name": "stdout",
     "output_type": "stream",
     "text": [
      "(3036, 1236)\n"
     ]
    }
   ],
   "source": [
    "# combine four emotion data\n",
    "data = pd.concat([df[\"fear\"],df[\"anger\"],df[\"sad\"],df[\"happy\"]], axis=0)\n",
    "print(data.shape)"
   ]
  },
  {
   "cell_type": "code",
   "execution_count": 5,
   "metadata": {},
   "outputs": [],
   "source": [
    "# replace missing values with column mean\n",
    "def replace_nan(X):\n",
    "    col_mean = np.nanmean(X, axis=0) # obtain column means\n",
    "    ind = np.where(np.isnan(X)) # find the position of missing values\n",
    "    X[ind] = np.take(col_mean, ind[1]) # replace nans with colmeans\n",
    "    \n",
    "    return X"
   ]
  },
  {
   "cell_type": "code",
   "execution_count": 6,
   "metadata": {},
   "outputs": [
    {
     "name": "stdout",
     "output_type": "stream",
     "text": [
      "X shape: (3036, 1225)\ty shape: (3036,)\tG shape: (3036,)\n"
     ]
    }
   ],
   "source": [
    "# Prepare data for emotion classification\n",
    "\n",
    "# Features\n",
    "X = data.drop(columns = sub.columns) # drop subID, age, group etc.\n",
    "#X.head(3)\n",
    "X = X.drop(columns = X.columns[0]) # drop subID\n",
    "#X.head(3)\n",
    "X = X.values # convert pandas dataframe to numpy array\n",
    "# print(X.shape)\n",
    "#print(type(X))\n",
    "X = replace_nan(X) # deal with missing values in numpy array\n",
    "\n",
    "# Labels\n",
    "y = np.array([1,2,3,4]) \n",
    "y = np.repeat(y, num_sub)\n",
    "\n",
    "# Groups\n",
    "# Group info that will be used to do train-test split\n",
    "# data belongs to the same subject should not be splited into different folds\n",
    "G = np.array(range(num_sub)) +1\n",
    "G = np.tile(G, 4).T\n",
    "#print(G[0,759:789])\n",
    "print('X shape: ' + str(X.shape) + '\\ty shape: ' + str(y.shape) + '\\tG shape: ' + str(G.shape))\n"
   ]
  },
  {
   "cell_type": "code",
   "execution_count": 7,
   "metadata": {},
   "outputs": [],
   "source": [
    "# import packages for svm\n",
    "from sklearn.preprocessing import StandardScaler\n",
    "from sklearn.pipeline import Pipeline\n",
    "from sklearn.svm import SVC\n",
    "from sklearn.model_selection import cross_validate\n",
    "from sklearn.model_selection import StratifiedShuffleSplit\n",
    "from sklearn.model_selection import GroupShuffleSplit"
   ]
  },
  {
   "cell_type": "code",
   "execution_count": 8,
   "metadata": {},
   "outputs": [],
   "source": [
    "# train-test split for 10 fold cross validation; \n",
    "# samples that belong to the same subject will not be\n",
    "# split into different folds\n",
    "def get_cv(X, y, G):\n",
    "    cv = GroupShuffleSplit(n_splits = 10, test_size = 0.2, random_state = 42)\n",
    "    cv = cv.split(X, y, G)\n",
    "    return cv\n",
    "\n",
    "# train_inds, test_inds = next(cv) "
   ]
  },
  {
   "cell_type": "code",
   "execution_count": 9,
   "metadata": {},
   "outputs": [],
   "source": [
    "# define my SVC model (data normalization, SVC)\n",
    "def mySVC(gamma, C):\n",
    "    return Pipeline([\n",
    "        (\"std_scaler\", StandardScaler()),\n",
    "        (\"svc\", SVC(kernel=\"rbf\", gamma=gamma, C=C))\n",
    "    ])"
   ]
  },
  {
   "cell_type": "code",
   "execution_count": 10,
   "metadata": {},
   "outputs": [],
   "source": [
    "# model = mySVC(gamma=1, C=0.1)\n",
    "# model.fit(X_train,y_train)\n",
    "# model.score(X_test, y_test)"
   ]
  },
  {
   "cell_type": "code",
   "execution_count": 11,
   "metadata": {},
   "outputs": [],
   "source": [
    "def evaluation(X, y, G, gamma, C):\n",
    "    pipe = mySVC(gamma=gamma, C=C) \n",
    "    cv = get_cv(X, y, G)\n",
    "    #print(\"type(cv) = {}\".format(type(cv)))\n",
    "    \n",
    "    results = cross_validate(pipe, X, y, scoring=['accuracy'], cv=cv,\n",
    "                             verbose=1, return_train_score=True,\n",
    "                             n_jobs=-1)\n",
    "    \n",
    "    return results"
   ]
  },
  {
   "cell_type": "code",
   "execution_count": 13,
   "metadata": {},
   "outputs": [],
   "source": [
    "#results = evaluation(X,y,G,gamma=1,C=0.1)\n",
    "#print(\"Training score accuracy: {:.3f} +- {:.3f}\".format(np.mean(results['train_accuracy']),\n",
    "#                                                         np.std(results['train_accuracy'])))\n",
    "#print(\"Validation score accuracy: {:.3f} +- {:.3f}\".format(np.mean(results['test_accuracy']),\n",
    "#                                                           np.std(results['test_accuracy'])))"
   ]
  },
  {
   "cell_type": "code",
   "execution_count": 15,
   "metadata": {},
   "outputs": [
    {
     "name": "stdout",
     "output_type": "stream",
     "text": [
      "Training score accuracy: 0.500 +- 0.010\n",
      "Validation score accuracy: 0.303 +- 0.016\n"
     ]
    },
    {
     "name": "stderr",
     "output_type": "stream",
     "text": [
      "[Parallel(n_jobs=-1)]: Done  10 out of  10 | elapsed:  1.9min finished\n"
     ]
    },
    {
     "name": "stdout",
     "output_type": "stream",
     "text": [
      "Training score accuracy: 0.938 +- 0.011\n",
      "Validation score accuracy: 0.306 +- 0.020\n"
     ]
    },
    {
     "name": "stderr",
     "output_type": "stream",
     "text": [
      "[Parallel(n_jobs=-1)]: Done  10 out of  10 | elapsed:  1.7min finished\n"
     ]
    },
    {
     "name": "stdout",
     "output_type": "stream",
     "text": [
      "Training score accuracy: 1.000 +- 0.000\n",
      "Validation score accuracy: 0.272 +- 0.017\n"
     ]
    },
    {
     "name": "stderr",
     "output_type": "stream",
     "text": [
      "[Parallel(n_jobs=-1)]: Done  10 out of  10 | elapsed:  1.7min finished\n"
     ]
    },
    {
     "name": "stdout",
     "output_type": "stream",
     "text": [
      "Training score accuracy: 1.000 +- 0.000\n",
      "Validation score accuracy: 0.251 +- 0.006\n"
     ]
    },
    {
     "name": "stderr",
     "output_type": "stream",
     "text": [
      "[Parallel(n_jobs=-1)]: Done  10 out of  10 | elapsed:  1.7min finished\n"
     ]
    },
    {
     "name": "stdout",
     "output_type": "stream",
     "text": [
      "Training score accuracy: 1.000 +- 0.000\n",
      "Validation score accuracy: 0.255 +- 0.004\n"
     ]
    },
    {
     "name": "stderr",
     "output_type": "stream",
     "text": [
      "[Parallel(n_jobs=-1)]: Done  10 out of  10 | elapsed:  1.7min finished\n"
     ]
    },
    {
     "name": "stdout",
     "output_type": "stream",
     "text": [
      "Training score accuracy: 1.000 +- 0.000\n",
      "Validation score accuracy: 0.251 +- 0.001\n"
     ]
    },
    {
     "name": "stderr",
     "output_type": "stream",
     "text": [
      "[Parallel(n_jobs=-1)]: Done  10 out of  10 | elapsed:  1.7min finished\n"
     ]
    },
    {
     "name": "stdout",
     "output_type": "stream",
     "text": [
      "Training score accuracy: 1.000 +- 0.000\n",
      "Validation score accuracy: 0.248 +- 0.011\n"
     ]
    },
    {
     "name": "stderr",
     "output_type": "stream",
     "text": [
      "[Parallel(n_jobs=-1)]: Done  10 out of  10 | elapsed:  1.6min finished\n"
     ]
    },
    {
     "name": "stdout",
     "output_type": "stream",
     "text": [
      "Training score accuracy: 1.000 +- 0.000\n",
      "Validation score accuracy: 0.249 +- 0.010\n"
     ]
    },
    {
     "name": "stderr",
     "output_type": "stream",
     "text": [
      "[Parallel(n_jobs=-1)]: Done  10 out of  10 | elapsed:  1.5min finished\n"
     ]
    },
    {
     "name": "stdout",
     "output_type": "stream",
     "text": [
      "Training score accuracy: 1.000 +- 0.000\n",
      "Validation score accuracy: 0.249 +- 0.011\n"
     ]
    },
    {
     "name": "stderr",
     "output_type": "stream",
     "text": [
      "[Parallel(n_jobs=-1)]: Done  10 out of  10 | elapsed:  1.5min finished\n"
     ]
    },
    {
     "name": "stdout",
     "output_type": "stream",
     "text": [
      "Training score accuracy: 1.000 +- 0.000\n",
      "Validation score accuracy: 0.248 +- 0.013\n"
     ]
    },
    {
     "name": "stderr",
     "output_type": "stream",
     "text": [
      "[Parallel(n_jobs=-1)]: Done  10 out of  10 | elapsed:  1.5min finished\n"
     ]
    },
    {
     "name": "stdout",
     "output_type": "stream",
     "text": [
      "Training score accuracy: 1.000 +- 0.000\n",
      "Validation score accuracy: 0.250 +- 0.000\n"
     ]
    },
    {
     "name": "stderr",
     "output_type": "stream",
     "text": [
      "[Parallel(n_jobs=-1)]: Done  10 out of  10 | elapsed:  1.5min finished\n"
     ]
    },
    {
     "name": "stdout",
     "output_type": "stream",
     "text": [
      "Training score accuracy: 0.500 +- 0.010\n",
      "Validation score accuracy: 0.303 +- 0.016\n"
     ]
    },
    {
     "name": "stderr",
     "output_type": "stream",
     "text": [
      "[Parallel(n_jobs=-1)]: Done  10 out of  10 | elapsed:  1.5min finished\n"
     ]
    },
    {
     "name": "stdout",
     "output_type": "stream",
     "text": [
      "Training score accuracy: 0.938 +- 0.011\n",
      "Validation score accuracy: 0.306 +- 0.020\n"
     ]
    },
    {
     "name": "stderr",
     "output_type": "stream",
     "text": [
      "[Parallel(n_jobs=-1)]: Done  10 out of  10 | elapsed:  1.5min finished\n"
     ]
    },
    {
     "name": "stdout",
     "output_type": "stream",
     "text": [
      "Training score accuracy: 1.000 +- 0.000\n",
      "Validation score accuracy: 0.272 +- 0.017\n"
     ]
    },
    {
     "name": "stderr",
     "output_type": "stream",
     "text": [
      "[Parallel(n_jobs=-1)]: Done  10 out of  10 | elapsed:  1.5min finished\n"
     ]
    },
    {
     "name": "stdout",
     "output_type": "stream",
     "text": [
      "Training score accuracy: 1.000 +- 0.000\n",
      "Validation score accuracy: 0.251 +- 0.006\n"
     ]
    },
    {
     "name": "stderr",
     "output_type": "stream",
     "text": [
      "[Parallel(n_jobs=-1)]: Done  10 out of  10 | elapsed:  1.5min finished\n"
     ]
    },
    {
     "name": "stdout",
     "output_type": "stream",
     "text": [
      "Training score accuracy: 1.000 +- 0.000\n",
      "Validation score accuracy: 0.255 +- 0.004\n"
     ]
    },
    {
     "name": "stderr",
     "output_type": "stream",
     "text": [
      "[Parallel(n_jobs=-1)]: Done  10 out of  10 | elapsed:  1.5min finished\n"
     ]
    },
    {
     "name": "stdout",
     "output_type": "stream",
     "text": [
      "Training score accuracy: 1.000 +- 0.000\n",
      "Validation score accuracy: 0.251 +- 0.002\n"
     ]
    },
    {
     "name": "stderr",
     "output_type": "stream",
     "text": [
      "[Parallel(n_jobs=-1)]: Done  10 out of  10 | elapsed:  1.5min finished\n"
     ]
    },
    {
     "name": "stdout",
     "output_type": "stream",
     "text": [
      "Training score accuracy: 1.000 +- 0.000\n",
      "Validation score accuracy: 0.248 +- 0.011\n"
     ]
    },
    {
     "name": "stderr",
     "output_type": "stream",
     "text": [
      "[Parallel(n_jobs=-1)]: Done  10 out of  10 | elapsed:  1.5min finished\n"
     ]
    },
    {
     "name": "stdout",
     "output_type": "stream",
     "text": [
      "Training score accuracy: 1.000 +- 0.000\n",
      "Validation score accuracy: 0.249 +- 0.010\n"
     ]
    },
    {
     "name": "stderr",
     "output_type": "stream",
     "text": [
      "[Parallel(n_jobs=-1)]: Done  10 out of  10 | elapsed:  1.6min finished\n"
     ]
    },
    {
     "name": "stdout",
     "output_type": "stream",
     "text": [
      "Training score accuracy: 1.000 +- 0.000\n",
      "Validation score accuracy: 0.249 +- 0.011\n"
     ]
    },
    {
     "name": "stderr",
     "output_type": "stream",
     "text": [
      "[Parallel(n_jobs=-1)]: Done  10 out of  10 | elapsed:  1.5min finished\n"
     ]
    },
    {
     "name": "stdout",
     "output_type": "stream",
     "text": [
      "Training score accuracy: 1.000 +- 0.000\n",
      "Validation score accuracy: 0.249 +- 0.013\n"
     ]
    },
    {
     "name": "stderr",
     "output_type": "stream",
     "text": [
      "[Parallel(n_jobs=-1)]: Done  10 out of  10 | elapsed:  1.5min finished\n"
     ]
    },
    {
     "name": "stdout",
     "output_type": "stream",
     "text": [
      "Training score accuracy: 1.000 +- 0.000\n",
      "Validation score accuracy: 0.250 +- 0.000\n"
     ]
    },
    {
     "name": "stderr",
     "output_type": "stream",
     "text": [
      "[Parallel(n_jobs=-1)]: Done  10 out of  10 | elapsed:  1.6min finished\n"
     ]
    },
    {
     "name": "stdout",
     "output_type": "stream",
     "text": [
      "Training score accuracy: 0.500 +- 0.010\n",
      "Validation score accuracy: 0.303 +- 0.016\n"
     ]
    },
    {
     "name": "stderr",
     "output_type": "stream",
     "text": [
      "[Parallel(n_jobs=-1)]: Done  10 out of  10 | elapsed:  1.5min finished\n"
     ]
    },
    {
     "name": "stdout",
     "output_type": "stream",
     "text": [
      "Training score accuracy: 0.938 +- 0.011\n",
      "Validation score accuracy: 0.306 +- 0.020\n"
     ]
    },
    {
     "name": "stderr",
     "output_type": "stream",
     "text": [
      "[Parallel(n_jobs=-1)]: Done  10 out of  10 | elapsed:  1.5min finished\n"
     ]
    },
    {
     "name": "stdout",
     "output_type": "stream",
     "text": [
      "Training score accuracy: 1.000 +- 0.000\n",
      "Validation score accuracy: 0.272 +- 0.017\n"
     ]
    },
    {
     "name": "stderr",
     "output_type": "stream",
     "text": [
      "[Parallel(n_jobs=-1)]: Done  10 out of  10 | elapsed:  1.5min finished\n"
     ]
    },
    {
     "name": "stdout",
     "output_type": "stream",
     "text": [
      "Training score accuracy: 1.000 +- 0.000\n",
      "Validation score accuracy: 0.251 +- 0.006\n"
     ]
    },
    {
     "name": "stderr",
     "output_type": "stream",
     "text": [
      "[Parallel(n_jobs=-1)]: Done  10 out of  10 | elapsed:  1.5min finished\n"
     ]
    },
    {
     "name": "stdout",
     "output_type": "stream",
     "text": [
      "Training score accuracy: 1.000 +- 0.000\n",
      "Validation score accuracy: 0.255 +- 0.004\n"
     ]
    },
    {
     "name": "stderr",
     "output_type": "stream",
     "text": [
      "[Parallel(n_jobs=-1)]: Done  10 out of  10 | elapsed:  1.5min finished\n"
     ]
    },
    {
     "name": "stdout",
     "output_type": "stream",
     "text": [
      "Training score accuracy: 1.000 +- 0.000\n",
      "Validation score accuracy: 0.252 +- 0.002\n"
     ]
    },
    {
     "name": "stderr",
     "output_type": "stream",
     "text": [
      "[Parallel(n_jobs=-1)]: Done  10 out of  10 | elapsed:  1.5min finished\n"
     ]
    },
    {
     "name": "stdout",
     "output_type": "stream",
     "text": [
      "Training score accuracy: 1.000 +- 0.000\n",
      "Validation score accuracy: 0.248 +- 0.011\n"
     ]
    },
    {
     "name": "stderr",
     "output_type": "stream",
     "text": [
      "[Parallel(n_jobs=-1)]: Done  10 out of  10 | elapsed:  1.6min finished\n"
     ]
    },
    {
     "name": "stdout",
     "output_type": "stream",
     "text": [
      "Training score accuracy: 1.000 +- 0.000\n",
      "Validation score accuracy: 0.249 +- 0.010\n"
     ]
    },
    {
     "name": "stderr",
     "output_type": "stream",
     "text": [
      "[Parallel(n_jobs=-1)]: Done  10 out of  10 | elapsed:  1.5min finished\n"
     ]
    },
    {
     "name": "stdout",
     "output_type": "stream",
     "text": [
      "Training score accuracy: 1.000 +- 0.000\n",
      "Validation score accuracy: 0.249 +- 0.011\n"
     ]
    },
    {
     "name": "stderr",
     "output_type": "stream",
     "text": [
      "[Parallel(n_jobs=-1)]: Done  10 out of  10 | elapsed:  1.5min finished\n"
     ]
    },
    {
     "name": "stdout",
     "output_type": "stream",
     "text": [
      "Training score accuracy: 1.000 +- 0.000\n",
      "Validation score accuracy: 0.249 +- 0.013\n"
     ]
    },
    {
     "name": "stderr",
     "output_type": "stream",
     "text": [
      "[Parallel(n_jobs=-1)]: Done  10 out of  10 | elapsed:  1.5min finished\n"
     ]
    },
    {
     "name": "stdout",
     "output_type": "stream",
     "text": [
      "Training score accuracy: 1.000 +- 0.000\n",
      "Validation score accuracy: 0.250 +- 0.000\n"
     ]
    },
    {
     "name": "stderr",
     "output_type": "stream",
     "text": [
      "[Parallel(n_jobs=-1)]: Done  10 out of  10 | elapsed:  1.5min finished\n"
     ]
    },
    {
     "name": "stdout",
     "output_type": "stream",
     "text": [
      "Training score accuracy: 0.537 +- 0.010\n",
      "Validation score accuracy: 0.303 +- 0.015\n"
     ]
    },
    {
     "name": "stderr",
     "output_type": "stream",
     "text": [
      "[Parallel(n_jobs=-1)]: Done  10 out of  10 | elapsed:  1.5min finished\n"
     ]
    },
    {
     "name": "stdout",
     "output_type": "stream",
     "text": [
      "Training score accuracy: 0.938 +- 0.011\n",
      "Validation score accuracy: 0.306 +- 0.020\n"
     ]
    },
    {
     "name": "stderr",
     "output_type": "stream",
     "text": [
      "[Parallel(n_jobs=-1)]: Done  10 out of  10 | elapsed:  1.5min finished\n"
     ]
    },
    {
     "name": "stdout",
     "output_type": "stream",
     "text": [
      "Training score accuracy: 1.000 +- 0.000\n",
      "Validation score accuracy: 0.272 +- 0.017\n"
     ]
    },
    {
     "name": "stderr",
     "output_type": "stream",
     "text": [
      "[Parallel(n_jobs=-1)]: Done  10 out of  10 | elapsed:  1.5min finished\n"
     ]
    },
    {
     "name": "stdout",
     "output_type": "stream",
     "text": [
      "Training score accuracy: 1.000 +- 0.000\n",
      "Validation score accuracy: 0.251 +- 0.006\n"
     ]
    },
    {
     "name": "stderr",
     "output_type": "stream",
     "text": [
      "[Parallel(n_jobs=-1)]: Done  10 out of  10 | elapsed:  1.5min finished\n"
     ]
    },
    {
     "name": "stdout",
     "output_type": "stream",
     "text": [
      "Training score accuracy: 1.000 +- 0.000\n",
      "Validation score accuracy: 0.255 +- 0.004\n"
     ]
    },
    {
     "name": "stderr",
     "output_type": "stream",
     "text": [
      "[Parallel(n_jobs=-1)]: Done  10 out of  10 | elapsed:  1.5min finished\n"
     ]
    },
    {
     "name": "stdout",
     "output_type": "stream",
     "text": [
      "Training score accuracy: 1.000 +- 0.000\n",
      "Validation score accuracy: 0.251 +- 0.002\n"
     ]
    },
    {
     "name": "stderr",
     "output_type": "stream",
     "text": [
      "[Parallel(n_jobs=-1)]: Done  10 out of  10 | elapsed:  1.5min finished\n"
     ]
    },
    {
     "name": "stdout",
     "output_type": "stream",
     "text": [
      "Training score accuracy: 1.000 +- 0.000\n",
      "Validation score accuracy: 0.248 +- 0.011\n"
     ]
    },
    {
     "name": "stderr",
     "output_type": "stream",
     "text": [
      "[Parallel(n_jobs=-1)]: Done  10 out of  10 | elapsed:  1.6min finished\n"
     ]
    },
    {
     "name": "stdout",
     "output_type": "stream",
     "text": [
      "Training score accuracy: 1.000 +- 0.000\n",
      "Validation score accuracy: 0.249 +- 0.010\n"
     ]
    },
    {
     "name": "stderr",
     "output_type": "stream",
     "text": [
      "[Parallel(n_jobs=-1)]: Done  10 out of  10 | elapsed:  1.5min finished\n"
     ]
    },
    {
     "name": "stdout",
     "output_type": "stream",
     "text": [
      "Training score accuracy: 1.000 +- 0.000\n",
      "Validation score accuracy: 0.249 +- 0.011\n"
     ]
    },
    {
     "name": "stderr",
     "output_type": "stream",
     "text": [
      "[Parallel(n_jobs=-1)]: Done  10 out of  10 | elapsed:  1.5min finished\n"
     ]
    },
    {
     "name": "stdout",
     "output_type": "stream",
     "text": [
      "Training score accuracy: 1.000 +- 0.000\n",
      "Validation score accuracy: 0.248 +- 0.012\n"
     ]
    },
    {
     "name": "stderr",
     "output_type": "stream",
     "text": [
      "[Parallel(n_jobs=-1)]: Done  10 out of  10 | elapsed:  1.5min finished\n"
     ]
    },
    {
     "name": "stdout",
     "output_type": "stream",
     "text": [
      "Training score accuracy: 1.000 +- 0.000\n",
      "Validation score accuracy: 0.250 +- 0.000\n"
     ]
    },
    {
     "name": "stderr",
     "output_type": "stream",
     "text": [
      "[Parallel(n_jobs=-1)]: Done  10 out of  10 | elapsed:  1.6min finished\n"
     ]
    },
    {
     "name": "stdout",
     "output_type": "stream",
     "text": [
      "Training score accuracy: 0.702 +- 0.007\n",
      "Validation score accuracy: 0.321 +- 0.014\n"
     ]
    },
    {
     "name": "stderr",
     "output_type": "stream",
     "text": [
      "[Parallel(n_jobs=-1)]: Done  10 out of  10 | elapsed:  1.6min finished\n"
     ]
    },
    {
     "name": "stdout",
     "output_type": "stream",
     "text": [
      "Training score accuracy: 0.956 +- 0.008\n",
      "Validation score accuracy: 0.309 +- 0.018\n"
     ]
    },
    {
     "name": "stderr",
     "output_type": "stream",
     "text": [
      "[Parallel(n_jobs=-1)]: Done  10 out of  10 | elapsed:  1.5min finished\n"
     ]
    },
    {
     "name": "stdout",
     "output_type": "stream",
     "text": [
      "Training score accuracy: 1.000 +- 0.000\n",
      "Validation score accuracy: 0.272 +- 0.017\n"
     ]
    },
    {
     "name": "stderr",
     "output_type": "stream",
     "text": [
      "[Parallel(n_jobs=-1)]: Done  10 out of  10 | elapsed:  1.5min finished\n"
     ]
    },
    {
     "name": "stdout",
     "output_type": "stream",
     "text": [
      "Training score accuracy: 1.000 +- 0.000\n",
      "Validation score accuracy: 0.251 +- 0.006\n"
     ]
    },
    {
     "name": "stderr",
     "output_type": "stream",
     "text": [
      "[Parallel(n_jobs=-1)]: Done  10 out of  10 | elapsed:  1.5min finished\n"
     ]
    },
    {
     "name": "stdout",
     "output_type": "stream",
     "text": [
      "Training score accuracy: 1.000 +- 0.000\n",
      "Validation score accuracy: 0.255 +- 0.004\n"
     ]
    },
    {
     "name": "stderr",
     "output_type": "stream",
     "text": [
      "[Parallel(n_jobs=-1)]: Done  10 out of  10 | elapsed:  1.5min finished\n"
     ]
    },
    {
     "name": "stdout",
     "output_type": "stream",
     "text": [
      "Training score accuracy: 1.000 +- 0.000\n",
      "Validation score accuracy: 0.251 +- 0.002\n"
     ]
    },
    {
     "name": "stderr",
     "output_type": "stream",
     "text": [
      "[Parallel(n_jobs=-1)]: Done  10 out of  10 | elapsed:  1.5min finished\n"
     ]
    },
    {
     "name": "stdout",
     "output_type": "stream",
     "text": [
      "Training score accuracy: 1.000 +- 0.000\n",
      "Validation score accuracy: 0.248 +- 0.011\n"
     ]
    },
    {
     "name": "stderr",
     "output_type": "stream",
     "text": [
      "[Parallel(n_jobs=-1)]: Done  10 out of  10 | elapsed:  1.5min finished\n"
     ]
    },
    {
     "name": "stdout",
     "output_type": "stream",
     "text": [
      "Training score accuracy: 1.000 +- 0.000\n",
      "Validation score accuracy: 0.249 +- 0.010\n"
     ]
    },
    {
     "name": "stderr",
     "output_type": "stream",
     "text": [
      "[Parallel(n_jobs=-1)]: Done  10 out of  10 | elapsed:  1.5min finished\n"
     ]
    },
    {
     "name": "stdout",
     "output_type": "stream",
     "text": [
      "Training score accuracy: 1.000 +- 0.000\n",
      "Validation score accuracy: 0.249 +- 0.011\n"
     ]
    },
    {
     "name": "stderr",
     "output_type": "stream",
     "text": [
      "[Parallel(n_jobs=-1)]: Done  10 out of  10 | elapsed:  1.5min finished\n"
     ]
    },
    {
     "name": "stdout",
     "output_type": "stream",
     "text": [
      "Training score accuracy: 1.000 +- 0.000\n",
      "Validation score accuracy: 0.248 +- 0.012\n"
     ]
    },
    {
     "name": "stderr",
     "output_type": "stream",
     "text": [
      "[Parallel(n_jobs=-1)]: Done  10 out of  10 | elapsed:  1.5min finished\n"
     ]
    },
    {
     "name": "stdout",
     "output_type": "stream",
     "text": [
      "Training score accuracy: 1.000 +- 0.000\n",
      "Validation score accuracy: 0.250 +- 0.000\n"
     ]
    },
    {
     "name": "stderr",
     "output_type": "stream",
     "text": [
      "[Parallel(n_jobs=-1)]: Done  10 out of  10 | elapsed:  1.6min finished\n"
     ]
    },
    {
     "name": "stdout",
     "output_type": "stream",
     "text": [
      "Training score accuracy: 0.925 +- 0.004\n",
      "Validation score accuracy: 0.330 +- 0.017\n"
     ]
    },
    {
     "name": "stderr",
     "output_type": "stream",
     "text": [
      "[Parallel(n_jobs=-1)]: Done  10 out of  10 | elapsed:  1.5min finished\n"
     ]
    },
    {
     "name": "stdout",
     "output_type": "stream",
     "text": [
      "Training score accuracy: 1.000 +- 0.000\n",
      "Validation score accuracy: 0.321 +- 0.019\n"
     ]
    },
    {
     "name": "stderr",
     "output_type": "stream",
     "text": [
      "[Parallel(n_jobs=-1)]: Done  10 out of  10 | elapsed:  1.8min finished\n"
     ]
    },
    {
     "name": "stdout",
     "output_type": "stream",
     "text": [
      "Training score accuracy: 1.000 +- 0.000\n",
      "Validation score accuracy: 0.296 +- 0.021\n"
     ]
    },
    {
     "name": "stderr",
     "output_type": "stream",
     "text": [
      "[Parallel(n_jobs=-1)]: Done  10 out of  10 | elapsed:  2.1min finished\n"
     ]
    },
    {
     "name": "stdout",
     "output_type": "stream",
     "text": [
      "Training score accuracy: 1.000 +- 0.000\n",
      "Validation score accuracy: 0.271 +- 0.011\n"
     ]
    },
    {
     "name": "stderr",
     "output_type": "stream",
     "text": [
      "[Parallel(n_jobs=-1)]: Done  10 out of  10 | elapsed:  1.9min finished\n"
     ]
    },
    {
     "name": "stdout",
     "output_type": "stream",
     "text": [
      "Training score accuracy: 1.000 +- 0.000\n",
      "Validation score accuracy: 0.247 +- 0.021\n"
     ]
    },
    {
     "name": "stderr",
     "output_type": "stream",
     "text": [
      "[Parallel(n_jobs=-1)]: Done  10 out of  10 | elapsed:  2.0min finished\n"
     ]
    },
    {
     "name": "stdout",
     "output_type": "stream",
     "text": [
      "Training score accuracy: 1.000 +- 0.000\n",
      "Validation score accuracy: 0.251 +- 0.005\n"
     ]
    },
    {
     "name": "stderr",
     "output_type": "stream",
     "text": [
      "[Parallel(n_jobs=-1)]: Done  10 out of  10 | elapsed:  2.1min finished\n"
     ]
    },
    {
     "name": "stdout",
     "output_type": "stream",
     "text": [
      "Training score accuracy: 1.000 +- 0.000\n",
      "Validation score accuracy: 0.251 +- 0.001\n"
     ]
    },
    {
     "name": "stderr",
     "output_type": "stream",
     "text": [
      "[Parallel(n_jobs=-1)]: Done  10 out of  10 | elapsed:  2.0min finished\n"
     ]
    },
    {
     "name": "stdout",
     "output_type": "stream",
     "text": [
      "Training score accuracy: 1.000 +- 0.000\n",
      "Validation score accuracy: 0.250 +- 0.008\n"
     ]
    },
    {
     "name": "stderr",
     "output_type": "stream",
     "text": [
      "[Parallel(n_jobs=-1)]: Done  10 out of  10 | elapsed:  2.1min finished\n"
     ]
    },
    {
     "name": "stdout",
     "output_type": "stream",
     "text": [
      "Training score accuracy: 1.000 +- 0.000\n",
      "Validation score accuracy: 0.249 +- 0.011\n"
     ]
    },
    {
     "name": "stderr",
     "output_type": "stream",
     "text": [
      "[Parallel(n_jobs=-1)]: Done  10 out of  10 | elapsed:  2.0min finished\n"
     ]
    },
    {
     "name": "stdout",
     "output_type": "stream",
     "text": [
      "Training score accuracy: 1.000 +- 0.000\n",
      "Validation score accuracy: 0.249 +- 0.012\n"
     ]
    },
    {
     "name": "stderr",
     "output_type": "stream",
     "text": [
      "[Parallel(n_jobs=-1)]: Done  10 out of  10 | elapsed:  2.0min finished\n"
     ]
    },
    {
     "name": "stdout",
     "output_type": "stream",
     "text": [
      "Training score accuracy: 1.000 +- 0.000\n",
      "Validation score accuracy: 0.250 +- 0.000\n"
     ]
    },
    {
     "name": "stderr",
     "output_type": "stream",
     "text": [
      "[Parallel(n_jobs=-1)]: Done  10 out of  10 | elapsed:  2.1min finished\n"
     ]
    },
    {
     "name": "stdout",
     "output_type": "stream",
     "text": [
      "Training score accuracy: 0.999 +- 0.000\n",
      "Validation score accuracy: 0.330 +- 0.015\n"
     ]
    },
    {
     "name": "stderr",
     "output_type": "stream",
     "text": [
      "[Parallel(n_jobs=-1)]: Done  10 out of  10 | elapsed:  1.9min finished\n"
     ]
    },
    {
     "name": "stdout",
     "output_type": "stream",
     "text": [
      "Training score accuracy: 1.000 +- 0.000\n",
      "Validation score accuracy: 0.321 +- 0.015\n"
     ]
    },
    {
     "name": "stderr",
     "output_type": "stream",
     "text": [
      "[Parallel(n_jobs=-1)]: Done  10 out of  10 | elapsed:  2.0min finished\n"
     ]
    },
    {
     "name": "stdout",
     "output_type": "stream",
     "text": [
      "Training score accuracy: 1.000 +- 0.000\n",
      "Validation score accuracy: 0.295 +- 0.019\n"
     ]
    },
    {
     "name": "stderr",
     "output_type": "stream",
     "text": [
      "[Parallel(n_jobs=-1)]: Done  10 out of  10 | elapsed:  1.9min finished\n"
     ]
    },
    {
     "name": "stdout",
     "output_type": "stream",
     "text": [
      "Training score accuracy: 1.000 +- 0.000\n",
      "Validation score accuracy: 0.268 +- 0.015\n"
     ]
    },
    {
     "name": "stderr",
     "output_type": "stream",
     "text": [
      "[Parallel(n_jobs=-1)]: Done  10 out of  10 | elapsed:  2.0min finished\n"
     ]
    },
    {
     "name": "stdout",
     "output_type": "stream",
     "text": [
      "Training score accuracy: 1.000 +- 0.000\n",
      "Validation score accuracy: 0.253 +- 0.014\n"
     ]
    },
    {
     "name": "stderr",
     "output_type": "stream",
     "text": [
      "[Parallel(n_jobs=-1)]: Done  10 out of  10 | elapsed:  2.0min finished\n"
     ]
    },
    {
     "name": "stdout",
     "output_type": "stream",
     "text": [
      "Training score accuracy: 1.000 +- 0.000\n",
      "Validation score accuracy: 0.255 +- 0.008\n"
     ]
    },
    {
     "name": "stderr",
     "output_type": "stream",
     "text": [
      "[Parallel(n_jobs=-1)]: Done  10 out of  10 | elapsed:  1.9min finished\n"
     ]
    },
    {
     "name": "stdout",
     "output_type": "stream",
     "text": [
      "Training score accuracy: 1.000 +- 0.000\n",
      "Validation score accuracy: 0.251 +- 0.005\n"
     ]
    },
    {
     "name": "stderr",
     "output_type": "stream",
     "text": [
      "[Parallel(n_jobs=-1)]: Done  10 out of  10 | elapsed:  2.0min finished\n"
     ]
    },
    {
     "name": "stdout",
     "output_type": "stream",
     "text": [
      "Training score accuracy: 1.000 +- 0.000\n",
      "Validation score accuracy: 0.250 +- 0.008\n"
     ]
    },
    {
     "name": "stderr",
     "output_type": "stream",
     "text": [
      "[Parallel(n_jobs=-1)]: Done  10 out of  10 | elapsed:  2.0min finished\n"
     ]
    },
    {
     "name": "stdout",
     "output_type": "stream",
     "text": [
      "Training score accuracy: 1.000 +- 0.000\n",
      "Validation score accuracy: 0.249 +- 0.011\n"
     ]
    },
    {
     "name": "stderr",
     "output_type": "stream",
     "text": [
      "[Parallel(n_jobs=-1)]: Done  10 out of  10 | elapsed:  2.0min finished\n"
     ]
    },
    {
     "name": "stdout",
     "output_type": "stream",
     "text": [
      "Training score accuracy: 1.000 +- 0.000\n",
      "Validation score accuracy: 0.249 +- 0.012\n"
     ]
    },
    {
     "name": "stderr",
     "output_type": "stream",
     "text": [
      "[Parallel(n_jobs=-1)]: Done  10 out of  10 | elapsed:  2.0min finished\n"
     ]
    },
    {
     "name": "stdout",
     "output_type": "stream",
     "text": [
      "Training score accuracy: 1.000 +- 0.000\n",
      "Validation score accuracy: 0.250 +- 0.000\n"
     ]
    },
    {
     "name": "stderr",
     "output_type": "stream",
     "text": [
      "[Parallel(n_jobs=-1)]: Done  10 out of  10 | elapsed:  1.9min finished\n"
     ]
    },
    {
     "name": "stdout",
     "output_type": "stream",
     "text": [
      "Training score accuracy: 1.000 +- 0.000\n",
      "Validation score accuracy: 0.323 +- 0.015\n"
     ]
    },
    {
     "name": "stderr",
     "output_type": "stream",
     "text": [
      "[Parallel(n_jobs=-1)]: Done  10 out of  10 | elapsed:  2.0min finished\n"
     ]
    },
    {
     "name": "stdout",
     "output_type": "stream",
     "text": [
      "Training score accuracy: 1.000 +- 0.000\n",
      "Validation score accuracy: 0.321 +- 0.015\n"
     ]
    },
    {
     "name": "stderr",
     "output_type": "stream",
     "text": [
      "[Parallel(n_jobs=-1)]: Done  10 out of  10 | elapsed:  2.2min finished\n"
     ]
    },
    {
     "name": "stdout",
     "output_type": "stream",
     "text": [
      "Training score accuracy: 1.000 +- 0.000\n",
      "Validation score accuracy: 0.295 +- 0.019\n"
     ]
    },
    {
     "name": "stderr",
     "output_type": "stream",
     "text": [
      "[Parallel(n_jobs=-1)]: Done  10 out of  10 | elapsed:  1.9min finished\n"
     ]
    },
    {
     "name": "stdout",
     "output_type": "stream",
     "text": [
      "Training score accuracy: 1.000 +- 0.000\n",
      "Validation score accuracy: 0.268 +- 0.015\n"
     ]
    },
    {
     "name": "stderr",
     "output_type": "stream",
     "text": [
      "[Parallel(n_jobs=-1)]: Done  10 out of  10 | elapsed:  2.0min finished\n"
     ]
    },
    {
     "name": "stdout",
     "output_type": "stream",
     "text": [
      "Training score accuracy: 1.000 +- 0.000\n",
      "Validation score accuracy: 0.253 +- 0.014\n"
     ]
    },
    {
     "name": "stderr",
     "output_type": "stream",
     "text": [
      "[Parallel(n_jobs=-1)]: Done  10 out of  10 | elapsed:  2.0min finished\n"
     ]
    },
    {
     "name": "stdout",
     "output_type": "stream",
     "text": [
      "Training score accuracy: 1.000 +- 0.000\n",
      "Validation score accuracy: 0.255 +- 0.008\n"
     ]
    },
    {
     "name": "stderr",
     "output_type": "stream",
     "text": [
      "[Parallel(n_jobs=-1)]: Done  10 out of  10 | elapsed:  2.0min finished\n"
     ]
    },
    {
     "name": "stdout",
     "output_type": "stream",
     "text": [
      "Training score accuracy: 1.000 +- 0.000\n",
      "Validation score accuracy: 0.251 +- 0.005\n"
     ]
    },
    {
     "name": "stderr",
     "output_type": "stream",
     "text": [
      "[Parallel(n_jobs=-1)]: Done  10 out of  10 | elapsed:  1.9min finished\n"
     ]
    },
    {
     "name": "stdout",
     "output_type": "stream",
     "text": [
      "Training score accuracy: 1.000 +- 0.000\n",
      "Validation score accuracy: 0.250 +- 0.008\n"
     ]
    },
    {
     "name": "stderr",
     "output_type": "stream",
     "text": [
      "[Parallel(n_jobs=-1)]: Done  10 out of  10 | elapsed:  1.8min finished\n"
     ]
    },
    {
     "name": "stdout",
     "output_type": "stream",
     "text": [
      "Training score accuracy: 1.000 +- 0.000\n",
      "Validation score accuracy: 0.249 +- 0.011\n"
     ]
    },
    {
     "name": "stderr",
     "output_type": "stream",
     "text": [
      "[Parallel(n_jobs=-1)]: Done  10 out of  10 | elapsed:  1.5min finished\n"
     ]
    },
    {
     "name": "stdout",
     "output_type": "stream",
     "text": [
      "Training score accuracy: 1.000 +- 0.000\n",
      "Validation score accuracy: 0.249 +- 0.012\n"
     ]
    },
    {
     "name": "stderr",
     "output_type": "stream",
     "text": [
      "[Parallel(n_jobs=-1)]: Done  10 out of  10 | elapsed:  1.5min finished\n"
     ]
    },
    {
     "name": "stdout",
     "output_type": "stream",
     "text": [
      "Training score accuracy: 1.000 +- 0.000\n",
      "Validation score accuracy: 0.250 +- 0.000\n"
     ]
    },
    {
     "name": "stderr",
     "output_type": "stream",
     "text": [
      "[Parallel(n_jobs=-1)]: Done  10 out of  10 | elapsed:  1.5min finished\n"
     ]
    },
    {
     "name": "stdout",
     "output_type": "stream",
     "text": [
      "Training score accuracy: 1.000 +- 0.000\n",
      "Validation score accuracy: 0.323 +- 0.015\n"
     ]
    },
    {
     "name": "stderr",
     "output_type": "stream",
     "text": [
      "[Parallel(n_jobs=-1)]: Done  10 out of  10 | elapsed:  1.6min finished\n"
     ]
    },
    {
     "name": "stdout",
     "output_type": "stream",
     "text": [
      "Training score accuracy: 1.000 +- 0.000\n",
      "Validation score accuracy: 0.321 +- 0.015\n"
     ]
    },
    {
     "name": "stderr",
     "output_type": "stream",
     "text": [
      "[Parallel(n_jobs=-1)]: Done  10 out of  10 | elapsed:  1.6min finished\n"
     ]
    },
    {
     "name": "stdout",
     "output_type": "stream",
     "text": [
      "Training score accuracy: 1.000 +- 0.000\n",
      "Validation score accuracy: 0.295 +- 0.019\n"
     ]
    },
    {
     "name": "stderr",
     "output_type": "stream",
     "text": [
      "[Parallel(n_jobs=-1)]: Done  10 out of  10 | elapsed:  1.5min finished\n"
     ]
    },
    {
     "name": "stdout",
     "output_type": "stream",
     "text": [
      "Training score accuracy: 1.000 +- 0.000\n",
      "Validation score accuracy: 0.268 +- 0.015\n"
     ]
    },
    {
     "name": "stderr",
     "output_type": "stream",
     "text": [
      "[Parallel(n_jobs=-1)]: Done  10 out of  10 | elapsed:  1.5min finished\n"
     ]
    },
    {
     "name": "stdout",
     "output_type": "stream",
     "text": [
      "Training score accuracy: 1.000 +- 0.000\n",
      "Validation score accuracy: 0.253 +- 0.014\n"
     ]
    },
    {
     "name": "stderr",
     "output_type": "stream",
     "text": [
      "[Parallel(n_jobs=-1)]: Done  10 out of  10 | elapsed:  1.5min finished\n"
     ]
    },
    {
     "name": "stdout",
     "output_type": "stream",
     "text": [
      "Training score accuracy: 1.000 +- 0.000\n",
      "Validation score accuracy: 0.255 +- 0.008\n"
     ]
    },
    {
     "name": "stderr",
     "output_type": "stream",
     "text": [
      "[Parallel(n_jobs=-1)]: Done  10 out of  10 | elapsed:  1.5min finished\n"
     ]
    },
    {
     "name": "stdout",
     "output_type": "stream",
     "text": [
      "Training score accuracy: 1.000 +- 0.000\n",
      "Validation score accuracy: 0.251 +- 0.005\n"
     ]
    },
    {
     "name": "stderr",
     "output_type": "stream",
     "text": [
      "[Parallel(n_jobs=-1)]: Done  10 out of  10 | elapsed:  1.5min finished\n"
     ]
    },
    {
     "name": "stdout",
     "output_type": "stream",
     "text": [
      "Training score accuracy: 1.000 +- 0.000\n",
      "Validation score accuracy: 0.250 +- 0.008\n"
     ]
    },
    {
     "name": "stderr",
     "output_type": "stream",
     "text": [
      "[Parallel(n_jobs=-1)]: Done  10 out of  10 | elapsed:  1.5min finished\n"
     ]
    },
    {
     "name": "stdout",
     "output_type": "stream",
     "text": [
      "Training score accuracy: 1.000 +- 0.000\n",
      "Validation score accuracy: 0.249 +- 0.011\n"
     ]
    },
    {
     "name": "stderr",
     "output_type": "stream",
     "text": [
      "[Parallel(n_jobs=-1)]: Done  10 out of  10 | elapsed:  1.5min finished\n"
     ]
    },
    {
     "name": "stdout",
     "output_type": "stream",
     "text": [
      "Training score accuracy: 1.000 +- 0.000\n",
      "Validation score accuracy: 0.249 +- 0.012\n"
     ]
    },
    {
     "name": "stderr",
     "output_type": "stream",
     "text": [
      "[Parallel(n_jobs=-1)]: Done  10 out of  10 | elapsed:  1.5min finished\n"
     ]
    },
    {
     "name": "stdout",
     "output_type": "stream",
     "text": [
      "Training score accuracy: 1.000 +- 0.000\n",
      "Validation score accuracy: 0.250 +- 0.000\n"
     ]
    },
    {
     "name": "stderr",
     "output_type": "stream",
     "text": [
      "[Parallel(n_jobs=-1)]: Done  10 out of  10 | elapsed:  1.5min finished\n"
     ]
    },
    {
     "name": "stdout",
     "output_type": "stream",
     "text": [
      "Training score accuracy: 1.000 +- 0.000\n",
      "Validation score accuracy: 0.323 +- 0.015\n"
     ]
    },
    {
     "name": "stderr",
     "output_type": "stream",
     "text": [
      "[Parallel(n_jobs=-1)]: Done  10 out of  10 | elapsed:  1.6min finished\n"
     ]
    },
    {
     "name": "stdout",
     "output_type": "stream",
     "text": [
      "Training score accuracy: 1.000 +- 0.000\n",
      "Validation score accuracy: 0.321 +- 0.015\n"
     ]
    },
    {
     "name": "stderr",
     "output_type": "stream",
     "text": [
      "[Parallel(n_jobs=-1)]: Done  10 out of  10 | elapsed:  1.5min finished\n"
     ]
    },
    {
     "name": "stdout",
     "output_type": "stream",
     "text": [
      "Training score accuracy: 1.000 +- 0.000\n",
      "Validation score accuracy: 0.295 +- 0.019\n"
     ]
    },
    {
     "name": "stderr",
     "output_type": "stream",
     "text": [
      "[Parallel(n_jobs=-1)]: Done  10 out of  10 | elapsed:  1.5min finished\n"
     ]
    },
    {
     "name": "stdout",
     "output_type": "stream",
     "text": [
      "Training score accuracy: 1.000 +- 0.000\n",
      "Validation score accuracy: 0.268 +- 0.015\n"
     ]
    },
    {
     "name": "stderr",
     "output_type": "stream",
     "text": [
      "[Parallel(n_jobs=-1)]: Done  10 out of  10 | elapsed:  1.5min finished\n"
     ]
    },
    {
     "name": "stdout",
     "output_type": "stream",
     "text": [
      "Training score accuracy: 1.000 +- 0.000\n",
      "Validation score accuracy: 0.253 +- 0.014\n"
     ]
    },
    {
     "name": "stderr",
     "output_type": "stream",
     "text": [
      "[Parallel(n_jobs=-1)]: Done  10 out of  10 | elapsed:  1.5min finished\n"
     ]
    },
    {
     "name": "stdout",
     "output_type": "stream",
     "text": [
      "Training score accuracy: 1.000 +- 0.000\n",
      "Validation score accuracy: 0.255 +- 0.008\n"
     ]
    },
    {
     "name": "stderr",
     "output_type": "stream",
     "text": [
      "[Parallel(n_jobs=-1)]: Done  10 out of  10 | elapsed:  1.5min finished\n"
     ]
    },
    {
     "name": "stdout",
     "output_type": "stream",
     "text": [
      "Training score accuracy: 1.000 +- 0.000\n",
      "Validation score accuracy: 0.251 +- 0.005\n"
     ]
    },
    {
     "name": "stderr",
     "output_type": "stream",
     "text": [
      "[Parallel(n_jobs=-1)]: Done  10 out of  10 | elapsed:  1.5min finished\n"
     ]
    },
    {
     "name": "stdout",
     "output_type": "stream",
     "text": [
      "Training score accuracy: 1.000 +- 0.000\n",
      "Validation score accuracy: 0.250 +- 0.008\n"
     ]
    },
    {
     "name": "stderr",
     "output_type": "stream",
     "text": [
      "[Parallel(n_jobs=-1)]: Done  10 out of  10 | elapsed:  1.5min finished\n"
     ]
    },
    {
     "name": "stdout",
     "output_type": "stream",
     "text": [
      "Training score accuracy: 1.000 +- 0.000\n",
      "Validation score accuracy: 0.249 +- 0.011\n"
     ]
    },
    {
     "name": "stderr",
     "output_type": "stream",
     "text": [
      "[Parallel(n_jobs=-1)]: Done  10 out of  10 | elapsed:  1.5min finished\n"
     ]
    },
    {
     "name": "stdout",
     "output_type": "stream",
     "text": [
      "Training score accuracy: 1.000 +- 0.000\n",
      "Validation score accuracy: 0.249 +- 0.012\n"
     ]
    },
    {
     "name": "stderr",
     "output_type": "stream",
     "text": [
      "[Parallel(n_jobs=-1)]: Done  10 out of  10 | elapsed:  1.5min finished\n"
     ]
    },
    {
     "name": "stdout",
     "output_type": "stream",
     "text": [
      "Training score accuracy: 1.000 +- 0.000\n",
      "Validation score accuracy: 0.250 +- 0.000\n"
     ]
    },
    {
     "name": "stderr",
     "output_type": "stream",
     "text": [
      "[Parallel(n_jobs=-1)]: Done  10 out of  10 | elapsed:  1.5min finished\n"
     ]
    }
   ],
   "source": [
    "C_range = np.exp2(np.array(range(-5,5))) #np.logspace(-3, 2, 6)\n",
    "gamma_range = np.exp2(np.array(range(-10,1)))\n",
    "models = []\n",
    "for C in C_range:\n",
    "    for gamma in gamma_range:\n",
    "        results = evaluation(X,y,G,gamma,C)\n",
    "        models.append((C,gamma,results))\n",
    "        print(\"Training score accuracy: {:.3f} +- {:.3f}\".format(np.mean(results['train_accuracy']),\n",
    "                                                         np.std(results['train_accuracy'])))\n",
    "        print(\"Validation score accuracy: {:.3f} +- {:.3f}\".format(np.mean(results['test_accuracy']),\n",
    "                                                           np.std(results['test_accuracy'])))"
   ]
  },
  {
   "cell_type": "code",
   "execution_count": null,
   "metadata": {},
   "outputs": [],
   "source": []
  }
 ],
 "metadata": {
  "kernelspec": {
   "display_name": "Python 3",
   "language": "python",
   "name": "python3"
  },
  "language_info": {
   "codemirror_mode": {
    "name": "ipython",
    "version": 3
   },
   "file_extension": ".py",
   "mimetype": "text/x-python",
   "name": "python",
   "nbconvert_exporter": "python",
   "pygments_lexer": "ipython3",
   "version": "3.6.5"
  }
 },
 "nbformat": 4,
 "nbformat_minor": 2
}
